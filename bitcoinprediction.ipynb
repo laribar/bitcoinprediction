{
  "nbformat": 4,
  "nbformat_minor": 0,
  "metadata": {
    "colab": {
      "provenance": [],
      "authorship_tag": "ABX9TyOmCdzilPHn0iTLZa3WxLbM",
      "include_colab_link": true
    },
    "kernelspec": {
      "name": "python3",
      "display_name": "Python 3"
    },
    "language_info": {
      "name": "python"
    }
  },
  "cells": [
    {
      "cell_type": "markdown",
      "metadata": {
        "id": "view-in-github",
        "colab_type": "text"
      },
      "source": [
        "<a href=\"https://colab.research.google.com/github/laribar/bitcoinprediction/blob/main/bitcoinprediction.ipynb\" target=\"_parent\"><img src=\"https://colab.research.google.com/assets/colab-badge.svg\" alt=\"Open In Colab\"/></a>"
      ]
    },
    {
      "cell_type": "code",
      "execution_count": 1,
      "metadata": {
        "id": "Vt6eGdd_Hlk-"
      },
      "outputs": [],
      "source": [
        "import pandas as pd\n",
        "import numpy as np\n",
        "import matplotlib.pyplot as plt\n",
        "import seaborn as sns\n",
        "from sklearn.model_selection import train_test_split\n",
        "from sklearn.linear_model import LinearRegression\n",
        "from sklearn.metrics import mean_squared_error, r2_score, mean_absolute_error\n",
        "from sklearn.ensemble import RandomForestRegressor"
      ]
    },
    {
      "cell_type": "code",
      "source": [
        "# Substitua os dados pelos corretos do seu repositório\n",
        "url = 'https://raw.githubusercontent.com/laribar/bitcoinprediction/refs/heads/main/Bitcoin_30_11_2024-31_01_2025_historical_data_coinmarketcap.csv'"
      ],
      "metadata": {
        "id": "10d1jRDaHv3I"
      },
      "execution_count": 2,
      "outputs": []
    },
    {
      "cell_type": "code",
      "source": [
        "# Ler o CSV com o delimitador especificado\n",
        "df = pd.read_csv(url, delimiter=';')  # Use ',' se o CSV for separado por vírgulas\n",
        "\n",
        "# Exibir as primeiras cinco linhas do DataFrame\n",
        "print(df.tail())"
      ],
      "metadata": {
        "colab": {
          "base_uri": "https://localhost:8080/"
        },
        "id": "TV25U9dDJeUh",
        "outputId": "402c4fd7-02bc-47c0-bf67-da48b1712c4c"
      },
      "execution_count": 3,
      "outputs": [
        {
          "output_type": "stream",
          "name": "stdout",
          "text": [
            "                    timeOpen                 timeClose  \\\n",
            "55  2024-12-06T00:00:00.000Z  2024-12-06T23:59:59.999Z   \n",
            "56  2024-12-05T00:00:00.000Z  2024-12-05T23:59:59.999Z   \n",
            "57  2024-12-04T00:00:00.000Z  2024-12-04T23:59:59.999Z   \n",
            "58  2024-12-03T00:00:00.000Z  2024-12-03T23:59:59.999Z   \n",
            "59  2024-12-02T00:00:00.000Z  2024-12-02T23:59:59.999Z   \n",
            "\n",
            "                    timeHigh                   timeLow  name          open  \\\n",
            "55  2024-12-06T20:43:00.000Z  2024-12-06T00:07:00.000Z  2781  97074.224832   \n",
            "56  2024-12-05T03:09:00.000Z  2024-12-05T22:29:00.000Z  2781  98741.539382   \n",
            "57  2024-12-04T20:52:00.000Z  2024-12-04T16:53:00.000Z  2781  95988.528712   \n",
            "58  2024-12-03T02:42:00.000Z  2024-12-03T14:36:00.000Z  2781  95854.597434   \n",
            "59  2024-12-02T01:32:00.000Z  2024-12-02T18:00:00.000Z  2781  97276.010117   \n",
            "\n",
            "             high           low         close        volume     marketCap  \\\n",
            "55  102039.881796  96514.876082  99920.714730  9.453477e+10  1.977631e+12   \n",
            "56  103900.472147  91998.781701  96593.572272  1.492189e+11  1.911778e+12   \n",
            "57   99207.325073  94660.523251  98768.527555  7.719982e+10  1.954156e+12   \n",
            "58   96297.200061  93629.559894  96002.162144  6.706781e+10  1.899532e+12   \n",
            "59   98152.598247  94482.863343  95865.301632  7.268078e+10  1.896994e+12   \n",
            "\n",
            "                   timestamp  \n",
            "55  2024-12-06T23:59:59.999Z  \n",
            "56  2024-12-05T23:59:59.999Z  \n",
            "57  2024-12-04T23:59:59.999Z  \n",
            "58  2024-12-03T23:59:59.999Z  \n",
            "59  2024-12-02T23:59:59.999Z  \n"
          ]
        }
      ]
    },
    {
      "cell_type": "code",
      "source": [
        "# Renomear a coluna 'último' para 'fechamento'\n",
        "df.rename(columns={'timeClose': 'Data'}, inplace=True)\n",
        "\n",
        "# Visualizar as primeiras linhas após renomear as colunas\n",
        "print(\"\\nColunas após a renomeação:\")\n",
        "print(df.columns)\n",
        "\n",
        "# Exibir as primeiras linhas do DataFrame para confirmar a alteração\n",
        "print(df.head())"
      ],
      "metadata": {
        "colab": {
          "base_uri": "https://localhost:8080/"
        },
        "id": "xTE3SVvYK3cM",
        "outputId": "163d3433-7e58-45ec-b0a6-34689fb23ae6"
      },
      "execution_count": 4,
      "outputs": [
        {
          "output_type": "stream",
          "name": "stdout",
          "text": [
            "\n",
            "Colunas após a renomeação:\n",
            "Index(['timeOpen', 'Data', 'timeHigh', 'timeLow', 'name', 'open', 'high',\n",
            "       'low', 'close', 'volume', 'marketCap', 'timestamp'],\n",
            "      dtype='object')\n",
            "                   timeOpen                      Data  \\\n",
            "0  2025-01-30T00:00:00.000Z  2025-01-30T23:59:59.999Z   \n",
            "1  2025-01-29T00:00:00.000Z  2025-01-29T23:59:59.999Z   \n",
            "2  2025-01-28T00:00:00.000Z  2025-01-28T23:59:59.999Z   \n",
            "3  2025-01-27T00:00:00.000Z  2025-01-27T23:59:59.999Z   \n",
            "4  2025-01-26T00:00:00.000Z  2025-01-26T23:59:59.999Z   \n",
            "\n",
            "                   timeHigh                   timeLow  name           open  \\\n",
            "0  2025-01-30T15:13:00.000Z  2025-01-30T00:32:00.000Z  2781  103709.338799   \n",
            "1  2025-01-29T20:34:00.000Z  2025-01-29T00:01:00.000Z  2781  101317.527253   \n",
            "2  2025-01-28T15:32:00.000Z  2025-01-28T22:01:00.000Z  2781  102095.417583   \n",
            "3  2025-01-27T00:11:00.000Z  2025-01-27T07:31:00.000Z  2781  102680.303591   \n",
            "4  2025-01-26T04:27:00.000Z  2025-01-26T23:56:00.000Z  2781  104713.213230   \n",
            "\n",
            "            high            low          close        volume     marketCap  \\\n",
            "0  106418.766695  103321.645064  104735.302839  4.191574e+10  2.075653e+12   \n",
            "1  104750.807242  101283.822710  103703.211192  4.743205e+10  2.055184e+12   \n",
            "2  103730.821061  100238.188137  101332.476221  4.718069e+10  2.007518e+12   \n",
            "3  103214.110460   97795.936102  102087.691335  8.900661e+10  2.023053e+12   \n",
            "4  105438.644535  102507.711730  102682.497033  2.254340e+10  2.034705e+12   \n",
            "\n",
            "                  timestamp  \n",
            "0  2025-01-30T23:59:59.999Z  \n",
            "1  2025-01-29T23:59:59.999Z  \n",
            "2  2025-01-28T23:59:59.999Z  \n",
            "3  2025-01-27T23:59:59.999Z  \n",
            "4  2025-01-26T23:59:59.999Z  \n"
          ]
        }
      ]
    },
    {
      "cell_type": "code",
      "source": [
        "# Converter coluna timeOpen para tipo datetime\n",
        "df['Data'] = pd.to_datetime(df['close']).dt.date\n",
        "# Definindo a 'data' como índice do DataFrame\n",
        "df.set_index('Data', inplace=True)\n",
        "# Exibir as primeiras linhas para verificar se a operação foi bem-sucedida\n",
        "print(df.head())"
      ],
      "metadata": {
        "colab": {
          "base_uri": "https://localhost:8080/"
        },
        "id": "lxQlLcHALGDo",
        "outputId": "842c2197-59ec-4ee0-9fb5-f4f37ffe374d"
      },
      "execution_count": 5,
      "outputs": [
        {
          "output_type": "stream",
          "name": "stdout",
          "text": [
            "                            timeOpen                  timeHigh  \\\n",
            "Data                                                             \n",
            "1970-01-01  2025-01-30T00:00:00.000Z  2025-01-30T15:13:00.000Z   \n",
            "1970-01-01  2025-01-29T00:00:00.000Z  2025-01-29T20:34:00.000Z   \n",
            "1970-01-01  2025-01-28T00:00:00.000Z  2025-01-28T15:32:00.000Z   \n",
            "1970-01-01  2025-01-27T00:00:00.000Z  2025-01-27T00:11:00.000Z   \n",
            "1970-01-01  2025-01-26T00:00:00.000Z  2025-01-26T04:27:00.000Z   \n",
            "\n",
            "                             timeLow  name           open           high  \\\n",
            "Data                                                                       \n",
            "1970-01-01  2025-01-30T00:32:00.000Z  2781  103709.338799  106418.766695   \n",
            "1970-01-01  2025-01-29T00:01:00.000Z  2781  101317.527253  104750.807242   \n",
            "1970-01-01  2025-01-28T22:01:00.000Z  2781  102095.417583  103730.821061   \n",
            "1970-01-01  2025-01-27T07:31:00.000Z  2781  102680.303591  103214.110460   \n",
            "1970-01-01  2025-01-26T23:56:00.000Z  2781  104713.213230  105438.644535   \n",
            "\n",
            "                      low          close        volume     marketCap  \\\n",
            "Data                                                                   \n",
            "1970-01-01  103321.645064  104735.302839  4.191574e+10  2.075653e+12   \n",
            "1970-01-01  101283.822710  103703.211192  4.743205e+10  2.055184e+12   \n",
            "1970-01-01  100238.188137  101332.476221  4.718069e+10  2.007518e+12   \n",
            "1970-01-01   97795.936102  102087.691335  8.900661e+10  2.023053e+12   \n",
            "1970-01-01  102507.711730  102682.497033  2.254340e+10  2.034705e+12   \n",
            "\n",
            "                           timestamp  \n",
            "Data                                  \n",
            "1970-01-01  2025-01-30T23:59:59.999Z  \n",
            "1970-01-01  2025-01-29T23:59:59.999Z  \n",
            "1970-01-01  2025-01-28T23:59:59.999Z  \n",
            "1970-01-01  2025-01-27T23:59:59.999Z  \n",
            "1970-01-01  2025-01-26T23:59:59.999Z  \n"
          ]
        }
      ]
    },
    {
      "cell_type": "code",
      "source": [
        "# Converter coluna 'timeOpen' para datetime\n",
        "df['Data'] = pd.to_datetime(df['timeOpen'])\n",
        "\n",
        "# Opcional: extrair apenas a parte da data, se o seu propósito não exige precisão de tempo\n",
        "df['Data'] = df['Data'].dt.date\n",
        "\n",
        "# Definir a nova coluna 'Data' como índice\n",
        "df.set_index('Data', inplace=True)\n",
        "\n",
        "# Exibir as 5 primeiras linhas para confirmar o índice correto\n",
        "print(df.head())"
      ],
      "metadata": {
        "id": "TvgfP7FvHMlQ",
        "outputId": "8c6d8fab-cb53-4a5f-97b9-0f3f50e5252e",
        "colab": {
          "base_uri": "https://localhost:8080/"
        }
      },
      "execution_count": 6,
      "outputs": [
        {
          "output_type": "stream",
          "name": "stdout",
          "text": [
            "                            timeOpen                  timeHigh  \\\n",
            "Data                                                             \n",
            "2025-01-30  2025-01-30T00:00:00.000Z  2025-01-30T15:13:00.000Z   \n",
            "2025-01-29  2025-01-29T00:00:00.000Z  2025-01-29T20:34:00.000Z   \n",
            "2025-01-28  2025-01-28T00:00:00.000Z  2025-01-28T15:32:00.000Z   \n",
            "2025-01-27  2025-01-27T00:00:00.000Z  2025-01-27T00:11:00.000Z   \n",
            "2025-01-26  2025-01-26T00:00:00.000Z  2025-01-26T04:27:00.000Z   \n",
            "\n",
            "                             timeLow  name           open           high  \\\n",
            "Data                                                                       \n",
            "2025-01-30  2025-01-30T00:32:00.000Z  2781  103709.338799  106418.766695   \n",
            "2025-01-29  2025-01-29T00:01:00.000Z  2781  101317.527253  104750.807242   \n",
            "2025-01-28  2025-01-28T22:01:00.000Z  2781  102095.417583  103730.821061   \n",
            "2025-01-27  2025-01-27T07:31:00.000Z  2781  102680.303591  103214.110460   \n",
            "2025-01-26  2025-01-26T23:56:00.000Z  2781  104713.213230  105438.644535   \n",
            "\n",
            "                      low          close        volume     marketCap  \\\n",
            "Data                                                                   \n",
            "2025-01-30  103321.645064  104735.302839  4.191574e+10  2.075653e+12   \n",
            "2025-01-29  101283.822710  103703.211192  4.743205e+10  2.055184e+12   \n",
            "2025-01-28  100238.188137  101332.476221  4.718069e+10  2.007518e+12   \n",
            "2025-01-27   97795.936102  102087.691335  8.900661e+10  2.023053e+12   \n",
            "2025-01-26  102507.711730  102682.497033  2.254340e+10  2.034705e+12   \n",
            "\n",
            "                           timestamp  \n",
            "Data                                  \n",
            "2025-01-30  2025-01-30T23:59:59.999Z  \n",
            "2025-01-29  2025-01-29T23:59:59.999Z  \n",
            "2025-01-28  2025-01-28T23:59:59.999Z  \n",
            "2025-01-27  2025-01-27T23:59:59.999Z  \n",
            "2025-01-26  2025-01-26T23:59:59.999Z  \n"
          ]
        }
      ]
    },
    {
      "cell_type": "code",
      "source": [
        "import pandas as pd\n",
        "\n",
        "# Considerando que 'df' é o seu DataFrame atual.\n",
        "# Converter colunas de tempo para datetime\n",
        "df['timeHigh'] = pd.to_datetime(df['timeHigh'])\n",
        "df['timeLow'] = pd.to_datetime(df['timeLow'])\n",
        "df['timestamp'] = pd.to_datetime(df['timestamp'])"
      ],
      "metadata": {
        "id": "00jJbnoFComb"
      },
      "execution_count": 7,
      "outputs": []
    },
    {
      "cell_type": "code",
      "source": [
        "# Converter e setar 'Data' como o índice do DataFrame\n",
        "df.index = pd.to_datetime(df.index)"
      ],
      "metadata": {
        "id": "AtODLrKtCqlw"
      },
      "execution_count": 8,
      "outputs": []
    },
    {
      "cell_type": "code",
      "source": [
        "# Examinar informação do DataFrame para assegurar todos estarem num tpo apropriado\n",
        "print(df.info())"
      ],
      "metadata": {
        "id": "OD7wp5fZCshu",
        "outputId": "edc391ea-8857-476a-a2ed-a1ec1759dffe",
        "colab": {
          "base_uri": "https://localhost:8080/"
        }
      },
      "execution_count": 9,
      "outputs": [
        {
          "output_type": "stream",
          "name": "stdout",
          "text": [
            "<class 'pandas.core.frame.DataFrame'>\n",
            "DatetimeIndex: 60 entries, 2025-01-30 to 2024-12-02\n",
            "Data columns (total 11 columns):\n",
            " #   Column     Non-Null Count  Dtype              \n",
            "---  ------     --------------  -----              \n",
            " 0   timeOpen   60 non-null     object             \n",
            " 1   timeHigh   60 non-null     datetime64[ns, UTC]\n",
            " 2   timeLow    60 non-null     datetime64[ns, UTC]\n",
            " 3   name       60 non-null     int64              \n",
            " 4   open       60 non-null     float64            \n",
            " 5   high       60 non-null     float64            \n",
            " 6   low        60 non-null     float64            \n",
            " 7   close      60 non-null     float64            \n",
            " 8   volume     60 non-null     float64            \n",
            " 9   marketCap  60 non-null     float64            \n",
            " 10  timestamp  60 non-null     datetime64[ns, UTC]\n",
            "dtypes: datetime64[ns, UTC](3), float64(6), int64(1), object(1)\n",
            "memory usage: 5.6+ KB\n",
            "None\n"
          ]
        }
      ]
    },
    {
      "cell_type": "code",
      "source": [
        "X = df.drop('close', axis=1)  # todas as colunas menos a de preço de fechamento\n",
        "y = df['close']  # a coluna alvo, naturalmente\n",
        "\n",
        "# Mostrar para Certificação\n",
        "print(X.head())\n",
        "print(y.head())"
      ],
      "metadata": {
        "id": "vR6gh06CCwvJ",
        "outputId": "a28c45a3-a65b-4b04-ed7e-eb1d30ff94b8",
        "colab": {
          "base_uri": "https://localhost:8080/"
        }
      },
      "execution_count": 10,
      "outputs": [
        {
          "output_type": "stream",
          "name": "stdout",
          "text": [
            "                            timeOpen                  timeHigh  \\\n",
            "Data                                                             \n",
            "2025-01-30  2025-01-30T00:00:00.000Z 2025-01-30 15:13:00+00:00   \n",
            "2025-01-29  2025-01-29T00:00:00.000Z 2025-01-29 20:34:00+00:00   \n",
            "2025-01-28  2025-01-28T00:00:00.000Z 2025-01-28 15:32:00+00:00   \n",
            "2025-01-27  2025-01-27T00:00:00.000Z 2025-01-27 00:11:00+00:00   \n",
            "2025-01-26  2025-01-26T00:00:00.000Z 2025-01-26 04:27:00+00:00   \n",
            "\n",
            "                             timeLow  name           open           high  \\\n",
            "Data                                                                       \n",
            "2025-01-30 2025-01-30 00:32:00+00:00  2781  103709.338799  106418.766695   \n",
            "2025-01-29 2025-01-29 00:01:00+00:00  2781  101317.527253  104750.807242   \n",
            "2025-01-28 2025-01-28 22:01:00+00:00  2781  102095.417583  103730.821061   \n",
            "2025-01-27 2025-01-27 07:31:00+00:00  2781  102680.303591  103214.110460   \n",
            "2025-01-26 2025-01-26 23:56:00+00:00  2781  104713.213230  105438.644535   \n",
            "\n",
            "                      low        volume     marketCap  \\\n",
            "Data                                                    \n",
            "2025-01-30  103321.645064  4.191574e+10  2.075653e+12   \n",
            "2025-01-29  101283.822710  4.743205e+10  2.055184e+12   \n",
            "2025-01-28  100238.188137  4.718069e+10  2.007518e+12   \n",
            "2025-01-27   97795.936102  8.900661e+10  2.023053e+12   \n",
            "2025-01-26  102507.711730  2.254340e+10  2.034705e+12   \n",
            "\n",
            "                                  timestamp  \n",
            "Data                                         \n",
            "2025-01-30 2025-01-30 23:59:59.999000+00:00  \n",
            "2025-01-29 2025-01-29 23:59:59.999000+00:00  \n",
            "2025-01-28 2025-01-28 23:59:59.999000+00:00  \n",
            "2025-01-27 2025-01-27 23:59:59.999000+00:00  \n",
            "2025-01-26 2025-01-26 23:59:59.999000+00:00  \n",
            "Data\n",
            "2025-01-30    104735.302839\n",
            "2025-01-29    103703.211192\n",
            "2025-01-28    101332.476221\n",
            "2025-01-27    102087.691335\n",
            "2025-01-26    102682.497033\n",
            "Name: close, dtype: float64\n"
          ]
        }
      ]
    },
    {
      "cell_type": "code",
      "source": [
        "# Verificar o número de amostras em X e y\n",
        "print(f\"Número de amostras em X: {X.shape[0]}\")\n",
        "print(f\"Número de amostras em y: {y.shape[0]}\")"
      ],
      "metadata": {
        "id": "J-fLiZIZC439",
        "outputId": "59ecb419-e11e-4f17-8e82-9b2a8840de6a",
        "colab": {
          "base_uri": "https://localhost:8080/"
        }
      },
      "execution_count": 11,
      "outputs": [
        {
          "output_type": "stream",
          "name": "stdout",
          "text": [
            "Número de amostras em X: 60\n",
            "Número de amostras em y: 60\n"
          ]
        }
      ]
    },
    {
      "cell_type": "code",
      "source": [
        "from sklearn.model_selection import train_test_split\n",
        "\n",
        "# Dividindo o dataset em conjuntos de treino e teste\n",
        "X_train, X_test, y_train, y_test = train_test_split(X, y, test_size=0.2, random_state=42)\n",
        "\n",
        "# Padrão: Pode fazer escalonamento aqui se quiser com StandardScaler\n",
        "# from sklearn.preprocessing import StandardScaler\n",
        "# scaler = StandardScaler()\n",
        "# X_train = scaler.fit_transform(X_train)\n",
        "# X_test = scaler.transform(X_test)"
      ],
      "metadata": {
        "id": "jtiOQh0yDUSb"
      },
      "execution_count": 12,
      "outputs": []
    },
    {
      "cell_type": "code",
      "source": [
        "import pandas as pd\n",
        "\n",
        "# Convertendo timeOpen para datetime\n",
        "X['timeOpen'] = pd.to_datetime(X['timeOpen'])"
      ],
      "metadata": {
        "id": "fNQNQ0LyDooU"
      },
      "execution_count": 13,
      "outputs": []
    },
    {
      "cell_type": "code",
      "source": [
        "# Transformar colunas datetime em timestamps\n",
        "X['timeOpen'] = X['timeOpen'].astype(int) / 10**9  # Convertendo para Unix timestamp\n",
        "X['timeHigh'] = X['timeHigh'].astype(int) / 10**9\n",
        "X['timeLow'] = X['timeLow'].astype(int) / 10**9\n",
        "X['timestamp'] = X['timestamp'].astype(int) / 10**9"
      ],
      "metadata": {
        "id": "3Ring0rvDqjd"
      },
      "execution_count": 14,
      "outputs": []
    },
    {
      "cell_type": "code",
      "source": [
        "if 'name' in X.columns:\n",
        "    # Remover a coluna 'name'\n",
        "    X.drop(columns=['name'], inplace=True)"
      ],
      "metadata": {
        "id": "4HE5jAnJDsdn"
      },
      "execution_count": 15,
      "outputs": []
    },
    {
      "cell_type": "code",
      "source": [
        "from sklearn.model_selection import train_test_split\n",
        "\n",
        "# Separe o conjunto de dados em conjuntos de treino e teste\n",
        "X_train, X_test, y_train, y_test = train_test_split(X, y, test_size=0.2, random_state=42)\n",
        "\n",
        "# Confirmar o tamanho dos conjuntos resultantes, certificando coerência\n",
        "print(f\"Número de amostras em X_train: {X_train.shape[0]}\")\n",
        "print(f\"Número de amostras em y_train: {y_train.shape[0]}\")\n",
        "print(f\"Número de amostras em X_test: {X_test.shape[0]}\")\n",
        "print(f\"Número de amostras em y_test: {y_test.shape[0]}\")"
      ],
      "metadata": {
        "id": "K6U_pzAnDz8j",
        "outputId": "369d392d-a02f-46e0-e231-301c0778a506",
        "colab": {
          "base_uri": "https://localhost:8080/"
        }
      },
      "execution_count": 16,
      "outputs": [
        {
          "output_type": "stream",
          "name": "stdout",
          "text": [
            "Número de amostras em X_train: 48\n",
            "Número de amostras em y_train: 48\n",
            "Número de amostras em X_test: 12\n",
            "Número de amostras em y_test: 12\n"
          ]
        }
      ]
    },
    {
      "cell_type": "code",
      "source": [
        "# Escolher a coluna 'close' como variável alvo\n",
        "y = df['close'].copy()"
      ],
      "metadata": {
        "id": "7wRYCum0D5RJ"
      },
      "execution_count": 17,
      "outputs": []
    },
    {
      "cell_type": "code",
      "source": [
        "# Converte a coluna 'close' para numérico, coerce lidará com valores inválidos transformando-os temporariamente em NaN\n",
        "df['close'] = pd.to_numeric(df['close'], errors='coerce')\n",
        "\n",
        "# Certifique-se ao final da conversão que há mínimo de erros cada entropia editável pro conclusão\n",
        "print(df['close'].dtype)\n",
        "print(df['close'].isna().sum())  # Verifique se alguns valores tornaram-se NaN"
      ],
      "metadata": {
        "id": "AmsHEqR9GZLx",
        "outputId": "c3801bcf-7476-4508-8714-618210fd4440",
        "colab": {
          "base_uri": "https://localhost:8080/"
        }
      },
      "execution_count": 18,
      "outputs": [
        {
          "output_type": "stream",
          "name": "stdout",
          "text": [
            "float64\n",
            "0\n"
          ]
        }
      ]
    },
    {
      "cell_type": "code",
      "source": [
        "# Confirmar formato e conteúdo do alvo `y`\n",
        "print(y.head())\n",
        "print(f\"Tipo de dados de `y`: {y.dtype}\")"
      ],
      "metadata": {
        "id": "QBEgZorkEQgO",
        "outputId": "eb2f6d77-6949-4a11-945d-caa959effda8",
        "colab": {
          "base_uri": "https://localhost:8080/"
        }
      },
      "execution_count": 19,
      "outputs": [
        {
          "output_type": "stream",
          "name": "stdout",
          "text": [
            "Data\n",
            "2025-01-30    104735.302839\n",
            "2025-01-29    103703.211192\n",
            "2025-01-28    101332.476221\n",
            "2025-01-27    102087.691335\n",
            "2025-01-26    102682.497033\n",
            "Name: close, dtype: float64\n",
            "Tipo de dados de `y`: float64\n"
          ]
        }
      ]
    },
    {
      "cell_type": "code",
      "source": [
        "# Selecionar apenas os últimos 20 dias para treinamento\n",
        "df_recent = df.tail(20)\n",
        "\n",
        "# Separar as features (X) e o alvo (y)\n",
        "X_recent = df_recent.drop(columns=['close', 'Fechamento'])  # Exclua colunas irrelevantes, mantenha apenas úteis\n",
        "y_recent = df_recent['close']\n",
        "\n",
        "# Re-treinar o modelo com os últimos 20 dias\n",
        "from sklearn.ensemble import RandomForestRegressor\n",
        "\n",
        "model = RandomForestRegressor(random_state=42)\n",
        "model.fit(X_recent, y_recent)\n",
        "\n",
        "# Previsões para os últimos 20 dias\n",
        "y_recent_pred = model.predict(X_recent)"
      ],
      "metadata": {
        "id": "a3xRgB5SHoae",
        "outputId": "f9499147-7ceb-4f2a-851f-0fd50de4df00",
        "colab": {
          "base_uri": "https://localhost:8080/",
          "height": 356
        }
      },
      "execution_count": 20,
      "outputs": [
        {
          "output_type": "error",
          "ename": "KeyError",
          "evalue": "\"['Fechamento'] not found in axis\"",
          "traceback": [
            "\u001b[0;31m---------------------------------------------------------------------------\u001b[0m",
            "\u001b[0;31mKeyError\u001b[0m                                  Traceback (most recent call last)",
            "\u001b[0;32m<ipython-input-20-57aece2974a5>\u001b[0m in \u001b[0;36m<cell line: 0>\u001b[0;34m()\u001b[0m\n\u001b[1;32m      3\u001b[0m \u001b[0;34m\u001b[0m\u001b[0m\n\u001b[1;32m      4\u001b[0m \u001b[0;31m# Separar as features (X) e o alvo (y)\u001b[0m\u001b[0;34m\u001b[0m\u001b[0;34m\u001b[0m\u001b[0m\n\u001b[0;32m----> 5\u001b[0;31m \u001b[0mX_recent\u001b[0m \u001b[0;34m=\u001b[0m \u001b[0mdf_recent\u001b[0m\u001b[0;34m.\u001b[0m\u001b[0mdrop\u001b[0m\u001b[0;34m(\u001b[0m\u001b[0mcolumns\u001b[0m\u001b[0;34m=\u001b[0m\u001b[0;34m[\u001b[0m\u001b[0;34m'close'\u001b[0m\u001b[0;34m,\u001b[0m \u001b[0;34m'Fechamento'\u001b[0m\u001b[0;34m]\u001b[0m\u001b[0;34m)\u001b[0m  \u001b[0;31m# Exclua colunas irrelevantes, mantenha apenas úteis\u001b[0m\u001b[0;34m\u001b[0m\u001b[0;34m\u001b[0m\u001b[0m\n\u001b[0m\u001b[1;32m      6\u001b[0m \u001b[0my_recent\u001b[0m \u001b[0;34m=\u001b[0m \u001b[0mdf_recent\u001b[0m\u001b[0;34m[\u001b[0m\u001b[0;34m'close'\u001b[0m\u001b[0;34m]\u001b[0m\u001b[0;34m\u001b[0m\u001b[0;34m\u001b[0m\u001b[0m\n\u001b[1;32m      7\u001b[0m \u001b[0;34m\u001b[0m\u001b[0m\n",
            "\u001b[0;32m/usr/local/lib/python3.11/dist-packages/pandas/core/frame.py\u001b[0m in \u001b[0;36mdrop\u001b[0;34m(self, labels, axis, index, columns, level, inplace, errors)\u001b[0m\n\u001b[1;32m   5579\u001b[0m                 \u001b[0mweight\u001b[0m  \u001b[0;36m1.0\u001b[0m     \u001b[0;36m0.8\u001b[0m\u001b[0;34m\u001b[0m\u001b[0;34m\u001b[0m\u001b[0m\n\u001b[1;32m   5580\u001b[0m         \"\"\"\n\u001b[0;32m-> 5581\u001b[0;31m         return super().drop(\n\u001b[0m\u001b[1;32m   5582\u001b[0m             \u001b[0mlabels\u001b[0m\u001b[0;34m=\u001b[0m\u001b[0mlabels\u001b[0m\u001b[0;34m,\u001b[0m\u001b[0;34m\u001b[0m\u001b[0;34m\u001b[0m\u001b[0m\n\u001b[1;32m   5583\u001b[0m             \u001b[0maxis\u001b[0m\u001b[0;34m=\u001b[0m\u001b[0maxis\u001b[0m\u001b[0;34m,\u001b[0m\u001b[0;34m\u001b[0m\u001b[0;34m\u001b[0m\u001b[0m\n",
            "\u001b[0;32m/usr/local/lib/python3.11/dist-packages/pandas/core/generic.py\u001b[0m in \u001b[0;36mdrop\u001b[0;34m(self, labels, axis, index, columns, level, inplace, errors)\u001b[0m\n\u001b[1;32m   4786\u001b[0m         \u001b[0;32mfor\u001b[0m \u001b[0maxis\u001b[0m\u001b[0;34m,\u001b[0m \u001b[0mlabels\u001b[0m \u001b[0;32min\u001b[0m \u001b[0maxes\u001b[0m\u001b[0;34m.\u001b[0m\u001b[0mitems\u001b[0m\u001b[0;34m(\u001b[0m\u001b[0;34m)\u001b[0m\u001b[0;34m:\u001b[0m\u001b[0;34m\u001b[0m\u001b[0;34m\u001b[0m\u001b[0m\n\u001b[1;32m   4787\u001b[0m             \u001b[0;32mif\u001b[0m \u001b[0mlabels\u001b[0m \u001b[0;32mis\u001b[0m \u001b[0;32mnot\u001b[0m \u001b[0;32mNone\u001b[0m\u001b[0;34m:\u001b[0m\u001b[0;34m\u001b[0m\u001b[0;34m\u001b[0m\u001b[0m\n\u001b[0;32m-> 4788\u001b[0;31m                 \u001b[0mobj\u001b[0m \u001b[0;34m=\u001b[0m \u001b[0mobj\u001b[0m\u001b[0;34m.\u001b[0m\u001b[0m_drop_axis\u001b[0m\u001b[0;34m(\u001b[0m\u001b[0mlabels\u001b[0m\u001b[0;34m,\u001b[0m \u001b[0maxis\u001b[0m\u001b[0;34m,\u001b[0m \u001b[0mlevel\u001b[0m\u001b[0;34m=\u001b[0m\u001b[0mlevel\u001b[0m\u001b[0;34m,\u001b[0m \u001b[0merrors\u001b[0m\u001b[0;34m=\u001b[0m\u001b[0merrors\u001b[0m\u001b[0;34m)\u001b[0m\u001b[0;34m\u001b[0m\u001b[0;34m\u001b[0m\u001b[0m\n\u001b[0m\u001b[1;32m   4789\u001b[0m \u001b[0;34m\u001b[0m\u001b[0m\n\u001b[1;32m   4790\u001b[0m         \u001b[0;32mif\u001b[0m \u001b[0minplace\u001b[0m\u001b[0;34m:\u001b[0m\u001b[0;34m\u001b[0m\u001b[0;34m\u001b[0m\u001b[0m\n",
            "\u001b[0;32m/usr/local/lib/python3.11/dist-packages/pandas/core/generic.py\u001b[0m in \u001b[0;36m_drop_axis\u001b[0;34m(self, labels, axis, level, errors, only_slice)\u001b[0m\n\u001b[1;32m   4828\u001b[0m                 \u001b[0mnew_axis\u001b[0m \u001b[0;34m=\u001b[0m \u001b[0maxis\u001b[0m\u001b[0;34m.\u001b[0m\u001b[0mdrop\u001b[0m\u001b[0;34m(\u001b[0m\u001b[0mlabels\u001b[0m\u001b[0;34m,\u001b[0m \u001b[0mlevel\u001b[0m\u001b[0;34m=\u001b[0m\u001b[0mlevel\u001b[0m\u001b[0;34m,\u001b[0m \u001b[0merrors\u001b[0m\u001b[0;34m=\u001b[0m\u001b[0merrors\u001b[0m\u001b[0;34m)\u001b[0m\u001b[0;34m\u001b[0m\u001b[0;34m\u001b[0m\u001b[0m\n\u001b[1;32m   4829\u001b[0m             \u001b[0;32melse\u001b[0m\u001b[0;34m:\u001b[0m\u001b[0;34m\u001b[0m\u001b[0;34m\u001b[0m\u001b[0m\n\u001b[0;32m-> 4830\u001b[0;31m                 \u001b[0mnew_axis\u001b[0m \u001b[0;34m=\u001b[0m \u001b[0maxis\u001b[0m\u001b[0;34m.\u001b[0m\u001b[0mdrop\u001b[0m\u001b[0;34m(\u001b[0m\u001b[0mlabels\u001b[0m\u001b[0;34m,\u001b[0m \u001b[0merrors\u001b[0m\u001b[0;34m=\u001b[0m\u001b[0merrors\u001b[0m\u001b[0;34m)\u001b[0m\u001b[0;34m\u001b[0m\u001b[0;34m\u001b[0m\u001b[0m\n\u001b[0m\u001b[1;32m   4831\u001b[0m             \u001b[0mindexer\u001b[0m \u001b[0;34m=\u001b[0m \u001b[0maxis\u001b[0m\u001b[0;34m.\u001b[0m\u001b[0mget_indexer\u001b[0m\u001b[0;34m(\u001b[0m\u001b[0mnew_axis\u001b[0m\u001b[0;34m)\u001b[0m\u001b[0;34m\u001b[0m\u001b[0;34m\u001b[0m\u001b[0m\n\u001b[1;32m   4832\u001b[0m \u001b[0;34m\u001b[0m\u001b[0m\n",
            "\u001b[0;32m/usr/local/lib/python3.11/dist-packages/pandas/core/indexes/base.py\u001b[0m in \u001b[0;36mdrop\u001b[0;34m(self, labels, errors)\u001b[0m\n\u001b[1;32m   7068\u001b[0m         \u001b[0;32mif\u001b[0m \u001b[0mmask\u001b[0m\u001b[0;34m.\u001b[0m\u001b[0many\u001b[0m\u001b[0;34m(\u001b[0m\u001b[0;34m)\u001b[0m\u001b[0;34m:\u001b[0m\u001b[0;34m\u001b[0m\u001b[0;34m\u001b[0m\u001b[0m\n\u001b[1;32m   7069\u001b[0m             \u001b[0;32mif\u001b[0m \u001b[0merrors\u001b[0m \u001b[0;34m!=\u001b[0m \u001b[0;34m\"ignore\"\u001b[0m\u001b[0;34m:\u001b[0m\u001b[0;34m\u001b[0m\u001b[0;34m\u001b[0m\u001b[0m\n\u001b[0;32m-> 7070\u001b[0;31m                 \u001b[0;32mraise\u001b[0m \u001b[0mKeyError\u001b[0m\u001b[0;34m(\u001b[0m\u001b[0;34mf\"{labels[mask].tolist()} not found in axis\"\u001b[0m\u001b[0;34m)\u001b[0m\u001b[0;34m\u001b[0m\u001b[0;34m\u001b[0m\u001b[0m\n\u001b[0m\u001b[1;32m   7071\u001b[0m             \u001b[0mindexer\u001b[0m \u001b[0;34m=\u001b[0m \u001b[0mindexer\u001b[0m\u001b[0;34m[\u001b[0m\u001b[0;34m~\u001b[0m\u001b[0mmask\u001b[0m\u001b[0;34m]\u001b[0m\u001b[0;34m\u001b[0m\u001b[0;34m\u001b[0m\u001b[0m\n\u001b[1;32m   7072\u001b[0m         \u001b[0;32mreturn\u001b[0m \u001b[0mself\u001b[0m\u001b[0;34m.\u001b[0m\u001b[0mdelete\u001b[0m\u001b[0;34m(\u001b[0m\u001b[0mindexer\u001b[0m\u001b[0;34m)\u001b[0m\u001b[0;34m\u001b[0m\u001b[0;34m\u001b[0m\u001b[0m\n",
            "\u001b[0;31mKeyError\u001b[0m: \"['Fechamento'] not found in axis\""
          ]
        }
      ]
    }
  ]
}