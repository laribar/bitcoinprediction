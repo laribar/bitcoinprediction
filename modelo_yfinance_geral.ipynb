{
  "nbformat": 4,
  "nbformat_minor": 0,
  "metadata": {
    "colab": {
      "provenance": [],
      "authorship_tag": "ABX9TyOWldk8PyNARDTeLjDParkg",
      "include_colab_link": true
    },
    "kernelspec": {
      "name": "python3",
      "display_name": "Python 3"
    },
    "language_info": {
      "name": "python"
    }
  },
  "cells": [
    {
      "cell_type": "markdown",
      "metadata": {
        "id": "view-in-github",
        "colab_type": "text"
      },
      "source": [
        "<a href=\"https://colab.research.google.com/github/laribar/bitcoinprediction/blob/main/modelo_yfinance_geral.ipynb\" target=\"_parent\"><img src=\"https://colab.research.google.com/assets/colab-badge.svg\" alt=\"Open In Colab\"/></a>"
      ]
    },
    {
      "cell_type": "code",
      "execution_count": null,
      "metadata": {
        "colab": {
          "base_uri": "https://localhost:8080/"
        },
        "id": "sO6bH78d0lio",
        "outputId": "152188b2-7e04-4f04-e947-30ef6ffb2b44"
      },
      "outputs": [
        {
          "output_type": "stream",
          "name": "stderr",
          "text": [
            "/usr/local/lib/python3.11/dist-packages/sklearn/utils/validation.py:2732: UserWarning: X has feature names, but StandardScaler was fitted without feature names\n",
            "  warnings.warn(\n"
          ]
        },
        {
          "output_type": "stream",
          "name": "stdout",
          "text": [
            "Stock: ADBE | Intervalo: 1d\n",
            "Last price: 389.61\n",
            "Predictions: [427.82700134 427.25700134 427.25700134 427.25700134 445.70000122]\n",
            "Alert: 🚀 Compra sugerida\n",
            "Ordem de Compra: 376.36\n",
            "Ordem de Venda: 453.75\n",
            "Justificativa: A média das previsões futuras (431.06) é 2% maior que o preço atual (389.61). Além disso, a SMA está em 426.48, a banda superior em 476.61, e a banda inferior em 376.36. O suporte está em 374.50, a resistência em 453.75, e a LTA em 452.51. Isso indica uma tendência de alta.\n",
            "--------------------------------------------------------------------------------\n"
          ]
        },
        {
          "output_type": "stream",
          "name": "stderr",
          "text": [
            "/usr/local/lib/python3.11/dist-packages/sklearn/utils/validation.py:2732: UserWarning: X has feature names, but StandardScaler was fitted without feature names\n",
            "  warnings.warn(\n"
          ]
        },
        {
          "output_type": "stream",
          "name": "stdout",
          "text": [
            "Stock: AMD | Intervalo: 1d\n",
            "Last price: 107.14\n",
            "Predictions: [103.99387932 103.62627021 102.62579575 102.10209707 101.91867036]\n",
            "Alert: ⚠️ Venda sugerida\n",
            "Ordem de Compra: 94.73\n",
            "Ordem de Venda: 109.94\n",
            "Justificativa: A média das previsões futuras (102.85) é 2% menor que o preço atual (107.14). Além disso, a SMA está em 102.08, a banda superior em 109.94, e a banda inferior em 94.22. O suporte está em 94.73, a resistência em 115.76, e a LTB em 94.73. Isso indica uma tendência de baixa.\n",
            "--------------------------------------------------------------------------------\n"
          ]
        },
        {
          "output_type": "stream",
          "name": "stderr",
          "text": [
            "/usr/local/lib/python3.11/dist-packages/sklearn/utils/validation.py:2732: UserWarning: X has feature names, but StandardScaler was fitted without feature names\n",
            "  warnings.warn(\n"
          ]
        },
        {
          "output_type": "stream",
          "name": "stdout",
          "text": [
            "Stock: ABNB | Intervalo: 1d\n",
            "Last price: 126.15\n",
            "Predictions: [123.13027325 123.26296496 123.26296496 124.18092969 124.18092969]\n",
            "Alert: ⚠️ Venda sugerida\n",
            "Ordem de Compra: 119.15\n",
            "Ordem de Venda: 151.03\n",
            "Justificativa: A média das previsões futuras (123.60) é 2% menor que o preço atual (126.15). Além disso, a SMA está em 133.95, a banda superior em 151.03, e a banda inferior em 116.86. O suporte está em 119.15, a resistência em 154.57, e a LTB em 119.15. Isso indica uma tendência de baixa.\n",
            "--------------------------------------------------------------------------------\n"
          ]
        },
        {
          "output_type": "stream",
          "name": "stderr",
          "text": [
            "/usr/local/lib/python3.11/dist-packages/sklearn/utils/validation.py:2732: UserWarning: X has feature names, but StandardScaler was fitted without feature names\n",
            "  warnings.warn(\n"
          ]
        },
        {
          "output_type": "stream",
          "name": "stdout",
          "text": [
            "Stock: GOOGL | Intervalo: 1d\n",
            "Last price: 162.80\n",
            "Predictions: [164.96053557 164.93918563 164.9746357  164.73845671 164.77090666]\n",
            "Alert: 🔍 Acompanhar\n",
            "Ordem de Compra: 158.01\n",
            "Ordem de Venda: 179.76\n",
            "Justificativa: A média das previsões futuras (164.88) está dentro de 2% do preço atual (162.80). A SMA está em 168.89, a banda superior em 179.76, e a banda inferior em 158.01. O suporte está em 156.72, a resistência em 185.34, a LTA em 174.97, e a LTB em 156.72. Isso sugere que o mercado está estável no momento.\n",
            "--------------------------------------------------------------------------------\n"
          ]
        },
        {
          "output_type": "stream",
          "name": "stderr",
          "text": [
            "/usr/local/lib/python3.11/dist-packages/sklearn/utils/validation.py:2732: UserWarning: X has feature names, but StandardScaler was fitted without feature names\n",
            "  warnings.warn(\n"
          ]
        },
        {
          "output_type": "stream",
          "name": "stdout",
          "text": [
            "Stock: GOOG | Intervalo: 1d\n",
            "Last price: 165.05\n",
            "Predictions: [166.33367798 166.2568787  166.24208872 166.1894887  165.89636672]\n",
            "Alert: 🔍 Acompanhar\n",
            "Ordem de Compra: 160.10\n",
            "Ordem de Venda: 181.60\n",
            "Justificativa: A média das previsões futuras (166.18) está dentro de 2% do preço atual (165.05). A SMA está em 170.85, a banda superior em 181.60, e a banda inferior em 160.10. O suporte está em 158.80, a resistência em 187.47, a LTA em 176.90, e a LTB em 158.80. Isso sugere que o mercado está estável no momento.\n",
            "--------------------------------------------------------------------------------\n"
          ]
        },
        {
          "output_type": "stream",
          "name": "stderr",
          "text": [
            "/usr/local/lib/python3.11/dist-packages/sklearn/utils/validation.py:2732: UserWarning: X has feature names, but StandardScaler was fitted without feature names\n",
            "  warnings.warn(\n"
          ]
        },
        {
          "output_type": "stream",
          "name": "stdout",
          "text": [
            "Stock: AMZN | Intervalo: 1d\n",
            "Last price: 194.95\n",
            "Predictions: [199.35421623 199.35421623 199.36616623 199.36616623 199.81221642]\n",
            "Alert: 🚀 Compra sugerida\n",
            "Ordem de Compra: 189.38\n",
            "Ordem de Venda: 218.60\n",
            "Justificativa: A média das previsões futuras (199.45) é 2% maior que o preço atual (194.95). Além disso, a SMA está em 202.78, a banda superior em 218.60, e a banda inferior em 186.95. O suporte está em 189.38, a resistência em 223.31, e a LTA em 202.27. Isso indica uma tendência de alta.\n",
            "--------------------------------------------------------------------------------\n"
          ]
        },
        {
          "output_type": "stream",
          "name": "stderr",
          "text": [
            "/usr/local/lib/python3.11/dist-packages/sklearn/utils/validation.py:2732: UserWarning: X has feature names, but StandardScaler was fitted without feature names\n",
            "  warnings.warn(\n"
          ]
        },
        {
          "output_type": "stream",
          "name": "stdout",
          "text": [
            "Stock: AEP | Intervalo: 1d\n",
            "Last price: 106.21\n",
            "Predictions: [104.54013741 104.43093735 104.43093735 104.43093735 104.43093735]\n",
            "Alert: 🔍 Acompanhar\n",
            "Ordem de Compra: 102.58\n",
            "Ordem de Venda: 108.35\n",
            "Justificativa: A média das previsões futuras (104.45) está dentro de 2% do preço atual (106.21). A SMA está em 105.47, a banda superior em 108.35, e a banda inferior em 102.58. O suporte está em 101.42, a resistência em 109.52, a LTA em 108.67, e a LTB em 102.35. Isso sugere que o mercado está estável no momento.\n",
            "--------------------------------------------------------------------------------\n"
          ]
        },
        {
          "output_type": "stream",
          "name": "stderr",
          "text": [
            "/usr/local/lib/python3.11/dist-packages/sklearn/utils/validation.py:2732: UserWarning: X has feature names, but StandardScaler was fitted without feature names\n",
            "  warnings.warn(\n"
          ]
        },
        {
          "output_type": "stream",
          "name": "stdout",
          "text": [
            "Stock: AMGN | Intervalo: 1d\n",
            "Last price: 315.04\n",
            "Predictions: [331.73057777 331.69241116 331.69241116 331.74083791 331.75975451]\n",
            "Alert: 🚀 Compra sugerida\n",
            "Ordem de Compra: 302.02\n",
            "Ordem de Venda: 326.24\n",
            "Justificativa: A média das previsões futuras (331.72) é 2% maior que o preço atual (315.04). Além disso, a SMA está em 314.13, a banda superior em 326.24, e a banda inferior em 302.02. O suporte está em 297.19, a resistência em 335.88, e a LTA em 335.88. Isso indica uma tendência de alta.\n",
            "--------------------------------------------------------------------------------\n"
          ]
        },
        {
          "output_type": "stream",
          "name": "stderr",
          "text": [
            "/usr/local/lib/python3.11/dist-packages/sklearn/utils/validation.py:2732: UserWarning: X has feature names, but StandardScaler was fitted without feature names\n",
            "  warnings.warn(\n"
          ]
        },
        {
          "output_type": "stream",
          "name": "stdout",
          "text": [
            "Stock: ADI | Intervalo: 1d\n",
            "Last price: 205.90\n",
            "Predictions: [212.43297201 212.40009221 212.13904954 212.13904954 212.08294122]\n",
            "Alert: 🚀 Compra sugerida\n",
            "Ordem de Compra: 202.59\n",
            "Ordem de Venda: 242.97\n",
            "Justificativa: A média das previsões futuras (212.24) é 2% maior que o preço atual (205.90). Além disso, a SMA está em 220.29, a banda superior em 242.97, e a banda inferior em 197.61. O suporte está em 202.59, a resistência em 246.08, e a LTA em 226.66. Isso indica uma tendência de alta.\n",
            "--------------------------------------------------------------------------------\n",
            "Stock: ANSS | Intervalo: 1d\n",
            "Last price: 324.63\n",
            "Predictions: [322.5353278  322.54035685 323.4086028  324.01742927 323.97451491]\n",
            "Alert: 🔍 Acompanhar\n",
            "Ordem de Compra: 315.23\n",
            "Ordem de Venda: 336.23\n",
            "Justificativa: A média das previsões futuras (323.30) está dentro de 2% do preço atual (324.63). A SMA está em 325.73, a banda superior em 336.23, e a banda inferior em 315.23. O suporte está em 314.11, a resistência em 340.31, a LTA em 327.25, e a LTB em 314.11. Isso sugere que o mercado está estável no momento.\n",
            "--------------------------------------------------------------------------------\n"
          ]
        },
        {
          "output_type": "stream",
          "name": "stderr",
          "text": [
            "/usr/local/lib/python3.11/dist-packages/sklearn/utils/validation.py:2732: UserWarning: X has feature names, but StandardScaler was fitted without feature names\n",
            "  warnings.warn(\n"
          ]
        }
      ],
      "source": [
        "import yfinance as yf\n",
        "import pandas as pd\n",
        "import numpy as np\n",
        "from sklearn.ensemble import RandomForestRegressor\n",
        "from sklearn.preprocessing import StandardScaler\n",
        "from sklearn.model_selection import GridSearchCV\n",
        "import logging\n",
        "\n",
        "# Configuração de logging\n",
        "logging.basicConfig(level=logging.INFO, format='%(asctime)s - %(levelname)s - %(message)s')\n",
        "\n",
        "# Função para baixar dados e calcular métricas técnicas\n",
        "def baixar_dados(acao, intervalo=\"1d\", periodo=\"2y\"):\n",
        "    try:\n",
        "        df = yf.download(acao, period=periodo, interval=intervalo, progress=False, auto_adjust=False)\n",
        "        if df.empty or df.isnull().values.any():\n",
        "            logging.error(f\"Erro: Dados faltantes ou inválidos para {acao}.\")\n",
        "            return None\n",
        "\n",
        "        preco_coluna = \"Adj Close\" if \"Adj Close\" in df.columns else \"Close\"\n",
        "\n",
        "        if preco_coluna not in df.columns:\n",
        "            logging.error(f\"Erro ao processar {acao}: Nenhuma coluna de fechamento encontrada nos dados.\")\n",
        "            return None\n",
        "\n",
        "        # Calcula a média móvel simples (SMA)\n",
        "        df[\"SMA\"] = df[preco_coluna].rolling(window=20).mean()\n",
        "\n",
        "        # Calcula o desvio padrão da janela\n",
        "        df[\"STD\"] = df[preco_coluna].rolling(window=20).std()\n",
        "\n",
        "        # Calcula as bandas superior e inferior corretamente\n",
        "        df[\"Upper_Band\"] = df[\"SMA\"] + (df[\"STD\"] * 2)\n",
        "        df[\"Lower_Band\"] = df[\"SMA\"] - (df[\"STD\"] * 2)\n",
        "\n",
        "        # Remove colunas auxiliares que podem estar causando erro\n",
        "        df = df.drop(columns=[\"STD\"])\n",
        "\n",
        "        # Calcula suporte e resistência\n",
        "        df[\"Support\"] = df[\"Low\"].rolling(window=20).min()\n",
        "        df[\"Resistance\"] = df[\"High\"].rolling(window=20).max()\n",
        "\n",
        "        # Calcula LTAs e LTBs\n",
        "        df[\"LTA\"] = df[\"High\"].rolling(window=10).max()  # Linha de Tendência de Alta (máximos)\n",
        "        df[\"LTB\"] = df[\"Low\"].rolling(window=10).min()   # Linha de Tendência de Baixa (mínimos)\n",
        "\n",
        "        return df\n",
        "\n",
        "    except Exception as e:\n",
        "        logging.error(f\"Erro ao baixar dados para {acao}: {e}\", exc_info=True)\n",
        "        return None\n",
        "\n",
        "# Função para treinar o modelo e prever preços futuros\n",
        "def prever_precos(df, acao, intervalo):\n",
        "    try:\n",
        "        # Selecionar features e target\n",
        "        X = df[['SMA', 'Upper_Band', 'Lower_Band', 'Support', 'Resistance', 'LTA', 'LTB']]\n",
        "        y = df['Close'].values.ravel()  # Converter y para array 1D\n",
        "\n",
        "        # Definir cutoff_date como 98% dos dados\n",
        "        cutoff_index = int(0.98 * len(df))  # Índice numérico para corte\n",
        "        X_train, X_test = X.iloc[:cutoff_index], X.iloc[cutoff_index:]\n",
        "        y_train, y_test = y[:cutoff_index], y[cutoff_index:]\n",
        "\n",
        "        # Verificar se há dados suficientes para treinamento e teste\n",
        "        if len(X_train) == 0 or len(X_test) == 0:\n",
        "            logging.error(f\"Erro: Dados insuficientes para treinamento/teste em {acao} no intervalo {intervalo}\")\n",
        "            return None\n",
        "\n",
        "        # Padronizar os dados\n",
        "        scaler = StandardScaler()\n",
        "        X_train_scaled = scaler.fit_transform(X_train)\n",
        "        X_test_scaled = scaler.transform(X_test)\n",
        "\n",
        "        # Ajuste de hiperparâmetros com GridSearchCV\n",
        "        param_grid = {\n",
        "            'n_estimators': [50, 100, 200],\n",
        "            'max_depth': [None, 10, 20],\n",
        "            'min_samples_split': [2, 5, 10]\n",
        "        }\n",
        "        model = RandomForestRegressor(random_state=42)\n",
        "        grid_search = GridSearchCV(model, param_grid, cv=3, scoring='neg_mean_squared_error')\n",
        "        grid_search.fit(X_train_scaled, y_train)\n",
        "\n",
        "        best_model = grid_search.best_estimator_\n",
        "\n",
        "        # Criar datas futuras\n",
        "        future_dates = [df.index[-1] + pd.Timedelta(days=i) for i in range(1, 6)]\n",
        "\n",
        "        # Criar features futuras com base em tendências\n",
        "        future_features = pd.DataFrame({\n",
        "            'SMA': [df['SMA'].iloc[-1] + i * 0.1 for i in range(5)],\n",
        "            'Upper_Band': [df['Upper_Band'].iloc[-1] + i * 0.1 for i in range(5)],\n",
        "            'Lower_Band': [df['Lower_Band'].iloc[-1] + i * 0.1 for i in range(5)],\n",
        "            'Support': [df['Support'].iloc[-1] + i * 0.1 for i in range(5)],\n",
        "            'Resistance': [df['Resistance'].iloc[-1] + i * 0.1 for i in range(5)],\n",
        "            'LTA': [df['LTA'].iloc[-1] + i * 0.1 for i in range(5)],\n",
        "            'LTB': [df['LTB'].iloc[-1] + i * 0.1 for i in range(5)]\n",
        "        }, index=future_dates)\n",
        "\n",
        "        future_features_scaled = scaler.transform(future_features)\n",
        "\n",
        "        # Fazer previsões\n",
        "        future_predictions = best_model.predict(future_features_scaled)\n",
        "        return future_predictions\n",
        "\n",
        "    except Exception as e:\n",
        "        logging.error(f\"Erro ao prever preços para {acao}: {e}\", exc_info=True)\n",
        "        return None\n",
        "\n",
        "# Função para gerar alertas de compra/venda\n",
        "def gerar_alertas(df, previsoes, acao, intervalo):\n",
        "    try:\n",
        "        # Garantir que last_price seja um valor escalar\n",
        "        last_price = df['Close'].iloc[-1]\n",
        "        if isinstance(last_price, pd.Series):\n",
        "            last_price = last_price.item()  # Converte para um valor escalar\n",
        "\n",
        "        if previsoes is not None and len(previsoes) > 0:\n",
        "            avg_future_price = np.mean(previsoes)\n",
        "\n",
        "            # Garantir que todas as métricas sejam valores escalares\n",
        "            sma = df['SMA'].iloc[-1].item() if isinstance(df['SMA'].iloc[-1], pd.Series) else df['SMA'].iloc[-1]\n",
        "            upper_band = df['Upper_Band'].iloc[-1].item() if isinstance(df['Upper_Band'].iloc[-1], pd.Series) else df['Upper_Band'].iloc[-1]\n",
        "            lower_band = df['Lower_Band'].iloc[-1].item() if isinstance(df['Lower_Band'].iloc[-1], pd.Series) else df['Lower_Band'].iloc[-1]\n",
        "            support = df['Support'].iloc[-1].item() if isinstance(df['Support'].iloc[-1], pd.Series) else df['Support'].iloc[-1]\n",
        "            resistance = df['Resistance'].iloc[-1].item() if isinstance(df['Resistance'].iloc[-1], pd.Series) else df['Resistance'].iloc[-1]\n",
        "            lta = df['LTA'].iloc[-1].item() if isinstance(df['LTA'].iloc[-1], pd.Series) else df['LTA'].iloc[-1]\n",
        "            ltb = df['LTB'].iloc[-1].item() if isinstance(df['LTB'].iloc[-1], pd.Series) else df['LTB'].iloc[-1]\n",
        "\n",
        "            # Definir ordens de compra e venda\n",
        "            ordem_compra = max(support, lower_band)  # Ordem de compra: máximo entre suporte e banda inferior\n",
        "            ordem_venda = min(resistance, upper_band)  # Ordem de venda: mínimo entre resistência e banda superior\n",
        "\n",
        "            # Gerar alerta e justificativa\n",
        "            if avg_future_price > last_price * 1.02:  # Tendência de alta\n",
        "                alerta = '🚀 Compra sugerida'\n",
        "                justificativa = (\n",
        "                    f\"A média das previsões futuras ({avg_future_price:.2f}) é 2% maior que o preço atual ({last_price:.2f}). \"\n",
        "                    f\"Além disso, a SMA está em {sma:.2f}, a banda superior em {upper_band:.2f}, e a banda inferior em {lower_band:.2f}. \"\n",
        "                    f\"O suporte está em {support:.2f}, a resistência em {resistance:.2f}, e a LTA em {lta:.2f}. \"\n",
        "                    f\"Isso indica uma tendência de alta.\"\n",
        "                )\n",
        "            elif avg_future_price < last_price * 0.98:  # Tendência de baixa\n",
        "                alerta = '⚠️ Venda sugerida'\n",
        "                justificativa = (\n",
        "                    f\"A média das previsões futuras ({avg_future_price:.2f}) é 2% menor que o preço atual ({last_price:.2f}). \"\n",
        "                    f\"Além disso, a SMA está em {sma:.2f}, a banda superior em {upper_band:.2f}, e a banda inferior em {lower_band:.2f}. \"\n",
        "                    f\"O suporte está em {support:.2f}, a resistência em {resistance:.2f}, e a LTB em {ltb:.2f}. \"\n",
        "                    f\"Isso indica uma tendência de baixa.\"\n",
        "                )\n",
        "            else:\n",
        "                alerta = '🔍 Acompanhar'\n",
        "                justificativa = (\n",
        "                    f\"A média das previsões futuras ({avg_future_price:.2f}) está dentro de 2% do preço atual ({last_price:.2f}). \"\n",
        "                    f\"A SMA está em {sma:.2f}, a banda superior em {upper_band:.2f}, e a banda inferior em {lower_band:.2f}. \"\n",
        "                    f\"O suporte está em {support:.2f}, a resistência em {resistance:.2f}, a LTA em {lta:.2f}, e a LTB em {ltb:.2f}. \"\n",
        "                    f\"Isso sugere que o mercado está estável no momento.\"\n",
        "                )\n",
        "        else:\n",
        "            alerta = '❌ Sem previsões disponíveis'\n",
        "            justificativa = 'Não há previsões disponíveis para esta ação.'\n",
        "            ordem_compra = None\n",
        "            ordem_venda = None\n",
        "\n",
        "        # Exibir resultados\n",
        "        print(f\"Stock: {acao} | Intervalo: {intervalo}\")\n",
        "        print(f\"Last price: {last_price:.2f}\")\n",
        "        print(f\"Predictions: {previsoes}\")\n",
        "        print(f\"Alert: {alerta}\")\n",
        "        print(f\"Ordem de Compra: {ordem_compra:.2f}\" if ordem_compra else \"Ordem de Compra: N/A\")\n",
        "        print(f\"Ordem de Venda: {ordem_venda:.2f}\" if ordem_venda else \"Ordem de Venda: N/A\")\n",
        "        print(f\"Justificativa: {justificativa}\")\n",
        "        print(\"-\" * 80)\n",
        "\n",
        "    except Exception as e:\n",
        "        logging.error(f\"Erro ao gerar alertas para {acao}: {e}\", exc_info=True)\n",
        "\n",
        "# Função para obter o Top 10 da NASDAQ por capitalização de mercado\n",
        "def obter_top_10_nasdaq():\n",
        "    \"\"\"\n",
        "    Obtém o Top 10 da NASDAQ por capitalização de mercado.\n",
        "    \"\"\"\n",
        "    # Baixar a lista de tickers da NASDAQ\n",
        "    nasdaq_tickers = pd.read_html(\"https://en.wikipedia.org/wiki/Nasdaq-100\")[4]\n",
        "    top_10 = nasdaq_tickers.head(10)['Ticker'].tolist()\n",
        "    return top_10\n",
        "\n",
        "# Processar ações\n",
        "acoes = obter_top_10_nasdaq()\n",
        "for acao in acoes:\n",
        "    df = baixar_dados(acao)\n",
        "    if df is not None:\n",
        "        previsoes = prever_precos(df, acao, \"1d\")\n",
        "        gerar_alertas(df, previsoes, acao, \"1d\")"
      ]
    }
  ]
}