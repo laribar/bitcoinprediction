{
  "nbformat": 4,
  "nbformat_minor": 0,
  "metadata": {
    "colab": {
      "provenance": [],
      "include_colab_link": true
    },
    "kernelspec": {
      "name": "python3",
      "display_name": "Python 3"
    },
    "language_info": {
      "name": "python"
    }
  },
  "cells": [
    {
      "cell_type": "markdown",
      "metadata": {
        "id": "view-in-github",
        "colab_type": "text"
      },
      "source": [
        "<a href=\"https://colab.research.google.com/github/laribar/bitcoinprediction/blob/main/modelo_yfinance_geral.ipynb\" target=\"_parent\"><img src=\"https://colab.research.google.com/assets/colab-badge.svg\" alt=\"Open In Colab\"/></a>"
      ]
    },
    {
      "cell_type": "code",
      "execution_count": 8,
      "metadata": {
        "colab": {
          "base_uri": "https://localhost:8080/"
        },
        "id": "sO6bH78d0lio",
        "outputId": "e48b7e6c-a572-4781-9201-1cc5050e3cef"
      },
      "outputs": [
        {
          "output_type": "stream",
          "name": "stderr",
          "text": [
            "/usr/local/lib/python3.11/dist-packages/sklearn/utils/validation.py:2732: UserWarning: X has feature names, but StandardScaler was fitted without feature names\n",
            "  warnings.warn(\n"
          ]
        },
        {
          "output_type": "stream",
          "name": "stdout",
          "text": [
            "Stock: ADBE | Intervalo: 1d\n",
            "Last price: 387.89\n",
            "Predictions: [418.38059456 418.3857943  418.38099419 418.38099419 418.38099419]\n",
            "Alert: 🚀 Compra sugerida\n",
            "Ordem de Compra: 387.51\n",
            "Ordem de Venda: 463.61\n",
            "Justificativa: A média das previsões futuras (418.38) é 2% maior que o preço atual (387.89). Além disso, a SMA está em 433.19, a banda superior em 478.87, e a banda inferior em 387.51. O suporte está em 374.50, a resistência em 463.61, e a LTA em 557.90. Isso indica uma tendência de alta.\n",
            "--------------------------------------------------------------------------------\n"
          ]
        },
        {
          "output_type": "stream",
          "name": "stderr",
          "text": [
            "/usr/local/lib/python3.11/dist-packages/sklearn/utils/validation.py:2732: UserWarning: X has feature names, but StandardScaler was fitted without feature names\n",
            "  warnings.warn(\n"
          ]
        },
        {
          "output_type": "stream",
          "name": "stdout",
          "text": [
            "Stock: AMD | Intervalo: 1d\n",
            "Last price: 106.23\n",
            "Predictions: [111.85259796 111.95829788 111.60279785 111.60279785 111.33949776]\n",
            "Alert: 🚀 Compra sugerida\n",
            "Ordem de Compra: 94.73\n",
            "Ordem de Venda: 113.55\n",
            "Justificativa: A média das previsões futuras (111.67) é 2% maior que o preço atual (106.23). Além disso, a SMA está em 102.85, a banda superior em 113.55, e a banda inferior em 92.15. O suporte está em 94.73, a resistência em 116.55, e a LTA em 120.44. Isso indica uma tendência de alta.\n",
            "--------------------------------------------------------------------------------\n"
          ]
        },
        {
          "output_type": "stream",
          "name": "stderr",
          "text": [
            "/usr/local/lib/python3.11/dist-packages/sklearn/utils/validation.py:2732: UserWarning: X has feature names, but StandardScaler was fitted without feature names\n",
            "  warnings.warn(\n"
          ]
        },
        {
          "output_type": "stream",
          "name": "stdout",
          "text": [
            "Stock: ABNB | Intervalo: 1d\n",
            "Last price: 126.00\n",
            "Predictions: [124.36020914 123.91671914 123.91671914 123.81911919 123.81911919]\n",
            "Alert: 🔍 Acompanhar\n",
            "Ordem de Compra: 119.15\n",
            "Ordem de Venda: 158.08\n",
            "Justificativa: A média das previsões futuras (123.97) está dentro de 2% do preço atual (126.00). A SMA está em 137.00, a banda superior em 158.08, e a banda inferior em 115.93. O suporte está em 119.15, a resistência em 160.00, a LTA em 163.93, e a LTB em 119.15. Isso sugere que o mercado está estável no momento.\n",
            "--------------------------------------------------------------------------------\n"
          ]
        },
        {
          "output_type": "stream",
          "name": "stderr",
          "text": [
            "/usr/local/lib/python3.11/dist-packages/sklearn/utils/validation.py:2732: UserWarning: X has feature names, but StandardScaler was fitted without feature names\n",
            "  warnings.warn(\n"
          ]
        },
        {
          "output_type": "stream",
          "name": "stdout",
          "text": [
            "Stock: GOOGL | Intervalo: 1d\n",
            "Last price: 163.89\n",
            "Predictions: [164.20157097 164.20157097 164.20157097 164.15471258 164.15471258]\n",
            "Alert: 🔍 Acompanhar\n",
            "Ordem de Compra: 157.19\n",
            "Ordem de Venda: 184.86\n",
            "Justificativa: A média das previsões futuras (164.18) está dentro de 2% do preço atual (163.89). A SMA está em 171.02, a banda superior em 184.86, e a banda inferior em 157.19. O suporte está em 156.72, a resistência em 185.46, a LTA em 186.40, e a LTB em 156.72. Isso sugere que o mercado está estável no momento.\n",
            "--------------------------------------------------------------------------------\n"
          ]
        },
        {
          "output_type": "stream",
          "name": "stderr",
          "text": [
            "/usr/local/lib/python3.11/dist-packages/sklearn/utils/validation.py:2732: UserWarning: X has feature names, but StandardScaler was fitted without feature names\n",
            "  warnings.warn(\n"
          ]
        },
        {
          "output_type": "stream",
          "name": "stdout",
          "text": [
            "Stock: GOOG | Intervalo: 1d\n",
            "Last price: 166.28\n",
            "Predictions: [165.59131734 166.40717592 166.40717592 166.40717592 166.35351341]\n",
            "Alert: 🔍 Acompanhar\n",
            "Ordem de Compra: 159.14\n",
            "Ordem de Venda: 186.77\n",
            "Justificativa: A média das previsões futuras (166.23) está dentro de 2% do preço atual (166.28). A SMA está em 172.95, a banda superior em 186.77, e a banda inferior em 159.14. O suporte está em 158.80, a resistência em 187.47, a LTA em 188.15, e a LTB em 158.80. Isso sugere que o mercado está estável no momento.\n",
            "--------------------------------------------------------------------------------\n"
          ]
        },
        {
          "output_type": "stream",
          "name": "stderr",
          "text": [
            "/usr/local/lib/python3.11/dist-packages/sklearn/utils/validation.py:2732: UserWarning: X has feature names, but StandardScaler was fitted without feature names\n",
            "  warnings.warn(\n"
          ]
        },
        {
          "output_type": "stream",
          "name": "stdout",
          "text": [
            "Stock: AMZN | Intervalo: 1d\n",
            "Last price: 195.54\n",
            "Predictions: [219.29693833 219.48230304 219.48230304 219.48230304 222.87861307]\n",
            "Alert: 🚀 Compra sugerida\n",
            "Ordem de Compra: 189.38\n",
            "Ordem de Venda: 225.59\n",
            "Justificativa: A média das previsões futuras (220.12) é 2% maior que o preço atual (195.54). Além disso, a SMA está em 205.73, a banda superior em 225.59, e a banda inferior em 185.86. O suporte está em 189.38, a resistência em 226.83, e a LTA em 231.18. Isso indica uma tendência de alta.\n",
            "--------------------------------------------------------------------------------\n"
          ]
        },
        {
          "output_type": "stream",
          "name": "stderr",
          "text": [
            "/usr/local/lib/python3.11/dist-packages/sklearn/utils/validation.py:2732: UserWarning: X has feature names, but StandardScaler was fitted without feature names\n",
            "  warnings.warn(\n"
          ]
        },
        {
          "output_type": "stream",
          "name": "stdout",
          "text": [
            "Stock: AEP | Intervalo: 1d\n",
            "Last price: 105.84\n",
            "Predictions: [103.23694366 103.17494349 103.17494349 103.17494349 103.09321098]\n",
            "Alert: ⚠️ Venda sugerida\n",
            "Ordem de Compra: 102.16\n",
            "Ordem de Venda: 108.31\n",
            "Justificativa: A média das previsões futuras (103.17) é 2% menor que o preço atual (105.84). Além disso, a SMA está em 105.23, a banda superior em 108.31, e a banda inferior em 102.16. O suporte está em 101.42, a resistência em 109.52, e a LTB em 101.42. Isso indica uma tendência de baixa.\n",
            "--------------------------------------------------------------------------------\n"
          ]
        },
        {
          "output_type": "stream",
          "name": "stderr",
          "text": [
            "/usr/local/lib/python3.11/dist-packages/sklearn/utils/validation.py:2732: UserWarning: X has feature names, but StandardScaler was fitted without feature names\n",
            "  warnings.warn(\n"
          ]
        },
        {
          "output_type": "stream",
          "name": "stdout",
          "text": [
            "Stock: AMGN | Intervalo: 1d\n",
            "Last price: 315.75\n",
            "Predictions: [288.83095893 288.83095893 288.83095893 288.83095893 289.05178962]\n",
            "Alert: ⚠️ Venda sugerida\n",
            "Ordem de Compra: 295.81\n",
            "Ordem de Venda: 328.59\n",
            "Justificativa: A média das previsões futuras (288.88) é 2% menor que o preço atual (315.75). Além disso, a SMA está em 312.20, a banda superior em 328.59, e a banda inferior em 295.81. O suporte está em 291.80, a resistência em 335.88, e a LTB em 279.31. Isso indica uma tendência de baixa.\n",
            "--------------------------------------------------------------------------------\n"
          ]
        },
        {
          "output_type": "stream",
          "name": "stderr",
          "text": [
            "/usr/local/lib/python3.11/dist-packages/sklearn/utils/validation.py:2732: UserWarning: X has feature names, but StandardScaler was fitted without feature names\n",
            "  warnings.warn(\n"
          ]
        },
        {
          "output_type": "stream",
          "name": "stdout",
          "text": [
            "Stock: ADI | Intervalo: 1d\n",
            "Last price: 209.97\n",
            "Predictions: [218.486783   218.94878312 218.68478318 218.68478318 218.8769835 ]\n",
            "Alert: 🚀 Compra sugerida\n",
            "Ordem de Compra: 202.59\n",
            "Ordem de Venda: 247.10\n",
            "Justificativa: A média das previsões futuras (218.74) é 2% maior que o preço atual (209.97). Além disso, a SMA está em 223.67, a banda superior em 248.03, e a banda inferior em 199.30. O suporte está em 202.59, a resistência em 247.10, e a LTA em 247.10. Isso indica uma tendência de alta.\n",
            "--------------------------------------------------------------------------------\n",
            "Stock: ANSS | Intervalo: 1d\n",
            "Last price: 323.04\n",
            "Predictions: [329.52465361 329.53816756 329.50111609 329.50111609 329.50111609]\n",
            "Alert: 🚀 Compra sugerida\n",
            "Ordem de Compra: 314.15\n",
            "Ordem de Venda: 340.26\n",
            "Justificativa: A média das previsões futuras (329.51) é 2% maior que o preço atual (323.04). Além disso, a SMA está em 327.21, a banda superior em 340.26, e a banda inferior em 314.15. O suporte está em 314.11, a resistência em 345.00, e a LTA em 360.67. Isso indica uma tendência de alta.\n",
            "--------------------------------------------------------------------------------\n"
          ]
        },
        {
          "output_type": "stream",
          "name": "stderr",
          "text": [
            "/usr/local/lib/python3.11/dist-packages/sklearn/utils/validation.py:2732: UserWarning: X has feature names, but StandardScaler was fitted without feature names\n",
            "  warnings.warn(\n"
          ]
        }
      ],
      "source": [
        "import yfinance as yf\n",
        "import pandas as pd\n",
        "import numpy as np\n",
        "from sklearn.ensemble import RandomForestRegressor\n",
        "from sklearn.preprocessing import StandardScaler\n",
        "from sklearn.model_selection import GridSearchCV, TimeSeriesSplit\n",
        "import logging\n",
        "\n",
        "# Configuração de logging\n",
        "logging.basicConfig(level=logging.INFO, format='%(asctime)s - %(levelname)s - %(message)s')\n",
        "\n",
        "# Função para baixar dados e calcular métricas técnicas\n",
        "def baixar_dados(acao, intervalo=\"1d\", periodo=\"2y\"):\n",
        "    try:\n",
        "        df = yf.download(acao, period=periodo, interval=intervalo, progress=False, auto_adjust=False)\n",
        "        if df.empty or df.isnull().values.any():\n",
        "            logging.error(f\"Erro: Dados faltantes ou inválidos para {acao}.\")\n",
        "            return None\n",
        "\n",
        "        preco_coluna = \"Adj Close\" if \"Adj Close\" in df.columns else \"Close\"\n",
        "\n",
        "        if preco_coluna not in df.columns:\n",
        "            logging.error(f\"Erro ao processar {acao}: Nenhuma coluna de fechamento encontrada nos dados.\")\n",
        "            return None\n",
        "\n",
        "        # Remove NaNs\n",
        "        df.dropna(inplace=True)\n",
        "\n",
        "        # Calcula a média móvel simples (SMA) e desvio padrão com shift para evitar forward-looking bias\n",
        "        df[\"SMA\"] = df[preco_coluna].rolling(window=20).mean().shift(1)\n",
        "        df[\"STD\"] = df[preco_coluna].rolling(window=20).std().shift(1)\n",
        "\n",
        "        # Calcula as bandas superior e inferior\n",
        "        df[\"Upper_Band\"] = df[\"SMA\"] + (df[\"STD\"] * 2)\n",
        "        df[\"Lower_Band\"] = df[\"SMA\"] - (df[\"STD\"] * 2)\n",
        "\n",
        "        # Calcula suporte e resistência com shift\n",
        "        df[\"Support\"] = df[\"Low\"].rolling(window=20).min().shift(1)\n",
        "        df[\"Resistance\"] = df[\"High\"].rolling(window=20).max().shift(1)\n",
        "\n",
        "        # Calcula LTAs e LTBs com lookback dinâmico baseado na volatilidade\n",
        "        lookback = max(10, int(df[\"STD\"].mean() * 5))  # Ajuste baseado na volatilidade\n",
        "        df[\"LTA\"] = df[\"High\"].rolling(window=lookback).max().shift(1)\n",
        "        df[\"LTB\"] = df[\"Low\"].rolling(window=lookback).min().shift(1)\n",
        "\n",
        "        # Remove colunas auxiliares que não serão usadas no modelo\n",
        "        df = df.drop(columns=[\"STD\"])\n",
        "\n",
        "        return df\n",
        "\n",
        "    except Exception as e:\n",
        "        logging.error(f\"Erro ao baixar dados para {acao}: {e}\", exc_info=True)\n",
        "        return None\n",
        "\n",
        "# Função para treinar o modelo e prever preços futuros\n",
        "def prever_precos(df, acao, intervalo):\n",
        "    try:\n",
        "        # Definir target como o preço do dia seguinte\n",
        "        df[\"Target\"] = df[\"Close\"].shift(-1)\n",
        "        df.dropna(inplace=True)  # Remove a última linha com target NaN\n",
        "\n",
        "        # Selecionar features e target\n",
        "        X = df[['SMA', 'Upper_Band', 'Lower_Band', 'Support', 'Resistance', 'LTA', 'LTB']]\n",
        "        y = df['Target'].values.ravel()  # Converter y para array 1D\n",
        "\n",
        "        # Definir cutoff_date como 98% dos dados\n",
        "        cutoff_index = int(0.98 * len(df))  # Índice numérico para corte\n",
        "        X_train, X_test = X.iloc[:cutoff_index], X.iloc[cutoff_index:]\n",
        "        y_train, y_test = y[:cutoff_index], y[cutoff_index:]\n",
        "\n",
        "        # Verificar se há dados suficientes para treinamento e teste\n",
        "        if len(X_train) == 0 or len(X_test) == 0:\n",
        "            logging.error(f\"Erro: Dados insuficientes para treinamento/teste em {acao} no intervalo {intervalo}\")\n",
        "            return None\n",
        "\n",
        "        # Padronizar os dados\n",
        "        scaler = StandardScaler()\n",
        "        X_train_scaled = scaler.fit_transform(X_train)\n",
        "        X_test_scaled = scaler.transform(X_test)\n",
        "\n",
        "        # Ajuste de hiperparâmetros com GridSearchCV e TimeSeriesSplit\n",
        "        param_grid = {\n",
        "            'n_estimators': [50, 100, 200],\n",
        "            'max_depth': [None, 10, 20],\n",
        "            'min_samples_split': [2, 5, 10]\n",
        "        }\n",
        "        model = RandomForestRegressor(random_state=42)\n",
        "        tss = TimeSeriesSplit(n_splits=3)\n",
        "        grid_search = GridSearchCV(model, param_grid, cv=tss, scoring='neg_mean_squared_error')\n",
        "        grid_search.fit(X_train_scaled, y_train)\n",
        "\n",
        "        best_model = grid_search.best_estimator_\n",
        "\n",
        "        # Criar datas futuras\n",
        "        future_dates = [df.index[-1] + pd.Timedelta(days=i) for i in range(1, 6)]\n",
        "\n",
        "        # Criar features futuras com base em tendências\n",
        "        future_features = pd.DataFrame({\n",
        "            'SMA': [df['SMA'].iloc[-1] + i * 0.1 for i in range(5)],\n",
        "            'Upper_Band': [df['Upper_Band'].iloc[-1] + i * 0.1 for i in range(5)],\n",
        "            'Lower_Band': [df['Lower_Band'].iloc[-1] + i * 0.1 for i in range(5)],\n",
        "            'Support': [df['Support'].iloc[-1] + i * 0.1 for i in range(5)],\n",
        "            'Resistance': [df['Resistance'].iloc[-1] + i * 0.1 for i in range(5)],\n",
        "            'LTA': [df['LTA'].iloc[-1] + i * 0.1 for i in range(5)],\n",
        "            'LTB': [df['LTB'].iloc[-1] + i * 0.1 for i in range(5)]\n",
        "        }, index=future_dates)\n",
        "\n",
        "        # Transformar features futuras usando o scaler ajustado\n",
        "        future_features_scaled = scaler.transform(future_features)\n",
        "\n",
        "        # Fazer previsões\n",
        "        future_predictions = best_model.predict(future_features_scaled)\n",
        "        return future_predictions\n",
        "\n",
        "    except Exception as e:\n",
        "        logging.error(f\"Erro ao prever preços para {acao}: {e}\", exc_info=True)\n",
        "        return None\n",
        "\n",
        "# Função para gerar alertas de compra/venda\n",
        "def gerar_alertas(df, previsoes, acao, intervalo):\n",
        "    try:\n",
        "        # Garantir que last_price seja um valor escalar\n",
        "        last_price = df['Close'].iloc[-1]\n",
        "        if isinstance(last_price, pd.Series):\n",
        "            last_price = last_price.item()  # Converte para um valor escalar\n",
        "\n",
        "        if previsoes is not None and len(previsoes) > 0:\n",
        "            avg_future_price = np.mean(previsoes)\n",
        "\n",
        "            # Garantir que todas as métricas sejam valores escalares\n",
        "            sma = df['SMA'].iloc[-1].item() if isinstance(df['SMA'].iloc[-1], pd.Series) else df['SMA'].iloc[-1]\n",
        "            upper_band = df['Upper_Band'].iloc[-1].item() if isinstance(df['Upper_Band'].iloc[-1], pd.Series) else df['Upper_Band'].iloc[-1]\n",
        "            lower_band = df['Lower_Band'].iloc[-1].item() if isinstance(df['Lower_Band'].iloc[-1], pd.Series) else df['Lower_Band'].iloc[-1]\n",
        "            support = df['Support'].iloc[-1].item() if isinstance(df['Support'].iloc[-1], pd.Series) else df['Support'].iloc[-1]\n",
        "            resistance = df['Resistance'].iloc[-1].item() if isinstance(df['Resistance'].iloc[-1], pd.Series) else df['Resistance'].iloc[-1]\n",
        "            lta = df['LTA'].iloc[-1].item() if isinstance(df['LTA'].iloc[-1], pd.Series) else df['LTA'].iloc[-1]\n",
        "            ltb = df['LTB'].iloc[-1].item() if isinstance(df['LTB'].iloc[-1], pd.Series) else df['LTB'].iloc[-1]\n",
        "\n",
        "            # Definir ordens de compra e venda\n",
        "            ordem_compra = max(support, lower_band)  # Ordem de compra: máximo entre suporte e banda inferior\n",
        "            ordem_venda = min(resistance, upper_band)  # Ordem de venda: mínimo entre resistência e banda superior\n",
        "\n",
        "            # Gerar alerta e justificativa\n",
        "            if avg_future_price > last_price * 1.02:  # Tendência de alta\n",
        "                alerta = '🚀 Compra sugerida'\n",
        "                justificativa = (\n",
        "                    f\"A média das previsões futuras ({avg_future_price:.2f}) é 2% maior que o preço atual ({last_price:.2f}). \"\n",
        "                    f\"Além disso, a SMA está em {sma:.2f}, a banda superior em {upper_band:.2f}, e a banda inferior em {lower_band:.2f}. \"\n",
        "                    f\"O suporte está em {support:.2f}, a resistência em {resistance:.2f}, e a LTA em {lta:.2f}. \"\n",
        "                    f\"Isso indica uma tendência de alta.\"\n",
        "                )\n",
        "            elif avg_future_price < last_price * 0.98:  # Tendência de baixa\n",
        "                alerta = '⚠️ Venda sugerida'\n",
        "                justificativa = (\n",
        "                    f\"A média das previsões futuras ({avg_future_price:.2f}) é 2% menor que o preço atual ({last_price:.2f}). \"\n",
        "                    f\"Além disso, a SMA está em {sma:.2f}, a banda superior em {upper_band:.2f}, e a banda inferior em {lower_band:.2f}. \"\n",
        "                    f\"O suporte está em {support:.2f}, a resistência em {resistance:.2f}, e a LTB em {ltb:.2f}. \"\n",
        "                    f\"Isso indica uma tendência de baixa.\"\n",
        "                )\n",
        "            else:\n",
        "                alerta = '🔍 Acompanhar'\n",
        "                justificativa = (\n",
        "                    f\"A média das previsões futuras ({avg_future_price:.2f}) está dentro de 2% do preço atual ({last_price:.2f}). \"\n",
        "                    f\"A SMA está em {sma:.2f}, a banda superior em {upper_band:.2f}, e a banda inferior em {lower_band:.2f}. \"\n",
        "                    f\"O suporte está em {support:.2f}, a resistência em {resistance:.2f}, a LTA em {lta:.2f}, e a LTB em {ltb:.2f}. \"\n",
        "                    f\"Isso sugere que o mercado está estável no momento.\"\n",
        "                )\n",
        "        else:\n",
        "            alerta = '❌ Sem previsões disponíveis'\n",
        "            justificativa = 'Não há previsões disponíveis para esta ação.'\n",
        "            ordem_compra = None\n",
        "            ordem_venda = None\n",
        "\n",
        "        # Exibir resultados\n",
        "        print(f\"Stock: {acao} | Intervalo: {intervalo}\")\n",
        "        print(f\"Last price: {last_price:.2f}\")\n",
        "        print(f\"Predictions: {previsoes}\")\n",
        "        print(f\"Alert: {alerta}\")\n",
        "        print(f\"Ordem de Compra: {ordem_compra:.2f}\" if ordem_compra else \"Ordem de Compra: N/A\")\n",
        "        print(f\"Ordem de Venda: {ordem_venda:.2f}\" if ordem_venda else \"Ordem de Venda: N/A\")\n",
        "        print(f\"Justificativa: {justificativa}\")\n",
        "        print(\"-\" * 80)\n",
        "\n",
        "    except Exception as e:\n",
        "        logging.error(f\"Erro ao gerar alertas para {acao}: {e}\", exc_info=True)\n",
        "\n",
        "# Função para obter o Top 10 da NASDAQ por capitalização de mercado\n",
        "def obter_top_10_nasdaq():\n",
        "    \"\"\"\n",
        "    Obtém o Top 10 da NASDAQ por capitalização de mercado.\n",
        "    \"\"\"\n",
        "    # Baixar a lista de tickers da NASDAQ\n",
        "    nasdaq_tickers = pd.read_html(\"https://en.wikipedia.org/wiki/Nasdaq-100\")[4]\n",
        "    top_10 = nasdaq_tickers.head(10)['Ticker'].tolist()\n",
        "    return top_10\n",
        "\n",
        "# Processar ações\n",
        "acoes = obter_top_10_nasdaq()\n",
        "for acao in acoes:\n",
        "    df = baixar_dados(acao)\n",
        "    if df is not None:\n",
        "        previsoes = prever_precos(df, acao, \"1d\")\n",
        "        gerar_alertas(df, previsoes, acao, \"1d\")\n",
        ""
      ]
    }
  ]
}